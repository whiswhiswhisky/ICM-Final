{
 "cells": [
  {
   "cell_type": "code",
   "execution_count": 6,
   "metadata": {},
   "outputs": [],
   "source": [
    "twitter_cred = {}\n",
    "import json"
   ]
  },
  {
   "cell_type": "code",
   "execution_count": 2,
   "metadata": {},
   "outputs": [],
   "source": [
    "twitter_cred['CONSUMER_KEY']='TuZJtxi1IOvUcqHGBofNlCeih'\n",
    "twitter_cred['CONSUMER_SECRET']='Jzo4JaGw99dMnK6mdj1NbI2vPzs4ONoQ2shphRa8EiyW5Obfy4'\n",
    "twitter_cred['ACCESS_KEY'] = 'd1H5PaGcBqW1oP8uT9xXsAluMmw9yS'\n",
    "twitter_cred['ACCESS_SECRET'] = 'fR6zD0cEgm5MQsCSPWDxMmsl2LQ7mhSFFhjhdhSUV4INy'"
   ]
  },
  {
   "cell_type": "code",
   "execution_count": 3,
   "metadata": {},
   "outputs": [
    {
     "data": {
      "text/plain": [
       "{'CONSUMER_KEY': 'TuZJtxi1IOvUcqHGBofNlCeih',\n",
       " 'CONSUMER_SECRET': 'Jzo4JaGw99dMnK6mdj1NbI2vPzs4ONoQ2shphRa8EiyW5Obfy4',\n",
       " 'ACCESS_KEY': 'd1H5PaGcBqW1oP8uT9xXsAluMmw9yS',\n",
       " 'ACCESS_SECRET': 'fR6zD0cEgm5MQsCSPWDxMmsl2LQ7mhSFFhjhdhSUV4INy'}"
      ]
     },
     "execution_count": 3,
     "metadata": {},
     "output_type": "execute_result"
    }
   ],
   "source": [
    "twitter_cred"
   ]
  },
  {
   "cell_type": "code",
   "execution_count": 7,
   "metadata": {},
   "outputs": [],
   "source": [
    "with open('twitter_credentials.json', 'w') as secret_info:\n",
    "    json.dump(twitter_cred, secret_info, indent=4, sort_keys=True)"
   ]
  },
  {
   "cell_type": "code",
   "execution_count": null,
   "metadata": {},
   "outputs": [],
   "source": []
  }
 ],
 "metadata": {
  "kernelspec": {
   "display_name": "Python 3",
   "language": "python",
   "name": "python3"
  },
  "language_info": {
   "codemirror_mode": {
    "name": "ipython",
    "version": 3
   },
   "file_extension": ".py",
   "mimetype": "text/x-python",
   "name": "python",
   "nbconvert_exporter": "python",
   "pygments_lexer": "ipython3",
   "version": "3.6.5"
  }
 },
 "nbformat": 4,
 "nbformat_minor": 2
}
